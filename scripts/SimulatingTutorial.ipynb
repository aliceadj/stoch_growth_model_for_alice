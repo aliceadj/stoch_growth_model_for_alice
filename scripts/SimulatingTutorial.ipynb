{
 "cells": [
  {
   "cell_type": "code",
   "execution_count": 1,
   "id": "f935da25-36cf-445c-9959-e9c620ad55e7",
   "metadata": {},
   "outputs": [
    {
     "name": "stderr",
     "output_type": "stream",
     "text": [
      "\u001b[32m\u001b[1m  Activating\u001b[22m\u001b[39m project at `~/stoch_growth_model_for_alice/stoch_growth_model_server`\n"
     ]
    }
   ],
   "source": [
    "using Pkg\n",
    "if Sys.KERNEL == :Linux\n",
    "    environment = \"../stoch_growth_model_server\"\n",
    "elseif Sys.KERNEL == :Darwin\n",
    "    environment = \"AAA - Honours Projec/stoch_growth_model_for_alice/\"\n",
    "end\n",
    "    \n",
    "Pkg.activate(\"$environment\")"
   ]
  },
  {
   "cell_type": "code",
   "execution_count": null,
   "id": "fe5ed39c-cacd-4253-a79c-f94558069afb",
   "metadata": {},
   "outputs": [],
   "source": [
    "# Pkg.add(PackageSpec(name=\"Catalyst\", version=\"15.0.4\"))\n",
    "# Pkg.add(PackageSpec(name=\"DifferentialEquations\", version=\"7.16.1\"))\n",
    "# Pkg.add(PackageSpec(name=\"DataFrames\", version=\"1.7.0\"))\n",
    "# Pkg.add(PackageSpec(name=\"CSV\", version=\"0.10.15\"))\n",
    "# Pkg.add(\"Plots\")\n"
   ]
  },
  {
   "cell_type": "code",
   "execution_count": 2,
   "id": "e265e893-fa38-4986-910d-e2a00daa8d55",
   "metadata": {},
   "outputs": [],
   "source": [
    "using Catalyst\n",
    "using DifferentialEquations\n",
    "using DataFrames\n",
    "using CSV\n",
    "using Plots"
   ]
  },
  {
   "cell_type": "code",
   "execution_count": 14,
   "id": "85e5ba6b-de5e-47ba-b035-f9c24efd5563",
   "metadata": {},
   "outputs": [
    {
     "data": {
      "text/plain": [
       "18-element Vector{Pair{Num, Float64}}:\n",
       "   a(t) => 10.0\n",
       "  si(t) => 0.0\n",
       "  mm(t) => 0.0\n",
       "  mt(t) => 0.0\n",
       "  mq(t) => 0.0\n",
       "  mr(t) => 0.0\n",
       "  cm(t) => 0.0\n",
       "  ct(t) => 0.0\n",
       "  cq(t) => 0.0\n",
       "  cr(t) => 0.0\n",
       "  em(t) => 0.0\n",
       "  et(t) => 0.0\n",
       "   q(t) => 0.0\n",
       "   r(t) => 10.0\n",
       " zmm(t) => 0.0\n",
       " zmt(t) => 0.0\n",
       " zmq(t) => 0.0\n",
       " zmr(t) => 0.0"
      ]
     },
     "execution_count": 14,
     "metadata": {},
     "output_type": "execute_result"
    }
   ],
   "source": [
    "include(\"model_eqs_tutorial.jl\")\n",
    "include(\"model_div_tutorial.jl\")\n",
    "include(\"../src/setup_funcs.jl\")\n",
    "params = getPars(\"uM\", \"NatComms\"; abx=0.0)\n",
    "u0 = getX0(gm_divC; ss=false, parametrization=\"NatComms\")"
   ]
  },
  {
   "cell_type": "code",
   "execution_count": 17,
   "id": "69567ce1-6ca9-4708-a04d-ea00b522c666",
   "metadata": {},
   "outputs": [
    {
     "name": "stdout",
     "output_type": "stream",
     "text": [
      "Solving ODE system\n",
      "Simulation complete\n"
     ]
    }
   ],
   "source": [
    "println(\"Solving ODE system\")\n",
    "prob = ODEProblem(gm_divC, u0, (0.0, 1e3), params)\n",
    "sol = solve(prob, Rodas5(); saveat=1.0)\n",
    "println(\"Simulation complete\")\n"
   ]
  },
  {
   "cell_type": "code",
   "execution_count": 19,
   "id": "7da9558c-39d6-4af1-b410-52f286ffda2c",
   "metadata": {},
   "outputs": [
    {
     "name": "stderr",
     "output_type": "stream",
     "text": [
      "\u001b[33m\u001b[1m┌ \u001b[22m\u001b[39m\u001b[33m\u001b[1mWarning: \u001b[22m\u001b[39mTo maintain consistency with solution indexing, keyword argument vars will be removed in a future version. Please use keyword argument idxs instead.\n",
      "\u001b[33m\u001b[1m│ \u001b[22m\u001b[39m  caller = ip:0x0\n",
      "\u001b[33m\u001b[1m└ \u001b[22m\u001b[39m\u001b[90m@ Core :-1\u001b[39m\n"
     ]
    },
    {
     "name": "stdout",
     "output_type": "stream",
     "text": [
      "Saved outputs: model_div_results.csv and model_div_ODE_results.png\n"
     ]
    }
   ],
   "source": [
    "\n",
    "df = DataFrame(sol)\n",
    "CSV.write(\"model_div_results.csv\", df)\n",
    "\n",
    "plt = plot(sol;\n",
    "    vars=[:a, :si, :r, :em, :et, :q],\n",
    "    lw=2,\n",
    "    xlabel=\"Time\",\n",
    "    ylabel=\"Concentration (µM)\",\n",
    "    legend=:outerright,\n",
    "    title=\"Model DIV ODE Simulation\"\n",
    ")\n",
    "savefig(\"model_div_ODE_results.png\")\n",
    "println(\"Saved outputs: model_div_results.csv and model_div_ODE_results.png\")"
   ]
  },
  {
   "cell_type": "code",
   "execution_count": null,
   "id": "1891b1f2-c6b9-4f63-8767-53918c308f19",
   "metadata": {},
   "outputs": [],
   "source": [
    "# To save changes each time\n",
    "# in a server terminal: \n",
    "# git add . \n",
    "# git commit -m \"message\"\n",
    "# git push\n",
    "\n",
    "\n",
    "# If working somewhere else do: git pull"
   ]
  },
  {
   "cell_type": "code",
   "execution_count": null,
   "id": "c8449c51-46a2-4b6e-9127-e2b6b8ed373f",
   "metadata": {},
   "outputs": [],
   "source": []
  }
 ],
 "metadata": {
  "kernelspec": {
   "display_name": "julia-1.11.5 1.11.5",
   "language": "julia",
   "name": "julia-1.11.5-1.11"
  },
  "language_info": {
   "file_extension": ".jl",
   "mimetype": "application/julia",
   "name": "julia",
   "version": "1.11.5"
  }
 },
 "nbformat": 4,
 "nbformat_minor": 5
}
