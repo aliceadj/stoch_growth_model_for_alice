{
 "cells": [
  {
   "cell_type": "code",
   "execution_count": 1,
   "id": "83b08123-5e33-4fa4-a022-e4dc4e74513c",
   "metadata": {},
   "outputs": [
    {
     "data": {
      "text/plain": [
       "2"
      ]
     },
     "execution_count": 1,
     "metadata": {},
     "output_type": "execute_result"
    }
   ],
   "source": [
    "1 + 1\n"
   ]
  },
  {
   "cell_type": "code",
   "execution_count": null,
   "id": "0ec5d420-6571-49b1-b037-975a28cf8f35",
   "metadata": {},
   "outputs": [],
   "source": []
  }
 ],
 "metadata": {
  "kernelspec": {
   "display_name": "julia-1.11.5 1.11.5",
   "language": "julia",
   "name": "julia-1.11.5-1.11"
  },
  "language_info": {
   "file_extension": ".jl",
   "mimetype": "application/julia",
   "name": "julia",
   "version": "1.11.5"
  }
 },
 "nbformat": 4,
 "nbformat_minor": 5
}
