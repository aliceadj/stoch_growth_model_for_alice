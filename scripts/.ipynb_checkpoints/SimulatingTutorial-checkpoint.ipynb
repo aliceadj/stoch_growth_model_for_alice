{
 "cells": [
  {
   "cell_type": "code",
   "execution_count": null,
   "id": "f935da25-36cf-445c-9959-e9c620ad55e7",
   "metadata": {},
   "outputs": [],
   "source": [
    "using Pkg\n",
    "if Sys.KERNEL == :Linux\n",
    "    environment = \"../stoch_growth_model_server\"\n",
    "elseif Sys.KERNEL == :Darwin\n",
    "    environment = \"AAA - Honours Projec/stoch_growth_model_for_alice/\"\n",
    "end\n",
    "    \n",
    "Pkg.activate(\"$environment\")"
   ]
  },
  {
   "cell_type": "code",
   "execution_count": null,
   "id": "efbfc99f-b29f-4d41-b060-cbf0ebd2c01d",
   "metadata": {},
   "outputs": [],
   "source": [
    "Pkg.resolve()\n",
    "Pkg.instantiate()"
   ]
  },
  {
   "cell_type": "code",
   "execution_count": null,
   "id": "fe5ed39c-cacd-4253-a79c-f94558069afb",
   "metadata": {},
   "outputs": [],
   "source": [
    "# Pkg.add(PackageSpec(name=\"Catalyst\", version=\"15.0.4\"))\n",
    "# Pkg.add(PackageSpec(name=\"DifferentialEquations\", version=\"7.16.1\"))\n",
    "# Pkg.add(PackageSpec(name=\"DataFrames\", version=\"1.7.0\"))\n",
    "# Pkg.add(PackageSpec(name=\"CSV\", version=\"0.10.15\"))\n",
    "# Pkg.add(\"Plots\")\n"
   ]
  },
  {
   "cell_type": "code",
   "execution_count": null,
   "id": "e265e893-fa38-4986-910d-e2a00daa8d55",
   "metadata": {},
   "outputs": [],
   "source": [
    "using Catalyst\n",
    "using DifferentialEquations\n",
    "using DataFrames\n",
    "using CSV\n",
    "using Plots"
   ]
  },
  {
   "cell_type": "code",
   "execution_count": null,
   "id": "85e5ba6b-de5e-47ba-b035-f9c24efd5563",
   "metadata": {},
   "outputs": [],
   "source": [
    "include(\"model_eqs_tutorial.jl\")\n",
    "include(\"model_div_tutorial.jl\")\n",
    "include(\"src/setup_funcs.jl\")\n",
    "params = getPars(\"uM\", \"NatComms\"; abx=0.0)\n",
    "u0 = getX0(gm_divC; ss=false, parametrization=\"NatComms\")"
   ]
  },
  {
   "cell_type": "code",
   "execution_count": null,
   "id": "69567ce1-6ca9-4708-a04d-ea00b522c666",
   "metadata": {},
   "outputs": [],
   "source": [
    "println(\"Solving ODE system\")\n",
    "prob = ODEProblem(gm_divC, u0, (0.0, 1e3), params)\n",
    "sol = solve(prob, Tsit5(); saveat=1.0)\n",
    "println(\"Simulation complete\")\n"
   ]
  },
  {
   "cell_type": "code",
   "execution_count": null,
   "id": "7da9558c-39d6-4af1-b410-52f286ffda2c",
   "metadata": {},
   "outputs": [],
   "source": [
    "\n",
    "df = DataFrame(sol)\n",
    "CSV.write(joinpath(project_root, \"model_div_results.csv\"), df)\n",
    "\n",
    "plt = plot(sol;\n",
    "    vars=[:a, :si, :r, :em, :et, :q],\n",
    "    lw=2,\n",
    "    xlabel=\"Time\",\n",
    "    ylabel=\"Concentration (µM)\",\n",
    "    legend=:outerright,\n",
    "    title=\"Model DIV ODE Simulation\"\n",
    ")\n",
    "savefig(joinpath(project_root, \"model_div_ODE_results.png\"))\n",
    "println(\"Saved outputs: model_div_results.csv and model_div_ODE_results.png\")"
   ]
  },
  {
   "cell_type": "code",
   "execution_count": null,
   "id": "1891b1f2-c6b9-4f63-8767-53918c308f19",
   "metadata": {},
   "outputs": [],
   "source": [
    "# To save changes each time\n",
    "# in a server terminal: \n",
    "# git add . \n",
    "# git commit -m \"message\"\n",
    "# git push\n",
    "\n",
    "\n",
    "# If working somewhere else do: git pull"
   ]
  },
  {
   "cell_type": "code",
   "execution_count": null,
   "id": "c8449c51-46a2-4b6e-9127-e2b6b8ed373f",
   "metadata": {},
   "outputs": [],
   "source": []
  }
 ],
 "metadata": {
  "kernelspec": {
   "display_name": "julia-1.11.5 1.11.5",
   "language": "julia",
   "name": "julia-1.11.5-1.11"
  },
  "language_info": {
   "file_extension": ".jl",
   "mimetype": "application/julia",
   "name": "julia",
   "version": "1.11.5"
  }
 },
 "nbformat": 4,
 "nbformat_minor": 5
}
