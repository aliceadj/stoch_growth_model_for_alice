{
 "cells": [
  {
   "cell_type": "code",
   "execution_count": 1,
   "id": "e265e893-fa38-4986-910d-e2a00daa8d55",
   "metadata": {},
   "outputs": [
    {
     "name": "stderr",
     "output_type": "stream",
     "text": [
      "\u001b[32m\u001b[1mPrecompiling\u001b[22m\u001b[39m Catalyst\n"
     ]
    },
    {
     "ename": "LoadError",
     "evalue": "failed to find source of parent package: \"Symbolics\"",
     "output_type": "error",
     "traceback": [
      "failed to find source of parent package: \"Symbolics\"",
      "",
      "Stacktrace:",
      "  [1] \u001b[0m\u001b[1merror\u001b[22m\u001b[0m\u001b[1m(\u001b[22m\u001b[90ms\u001b[39m::\u001b[0mString\u001b[0m\u001b[1m)\u001b[22m",
      "\u001b[90m    @\u001b[39m \u001b[90mBase\u001b[39m \u001b[90m./\u001b[39m\u001b[90m\u001b[4merror.jl:35\u001b[24m\u001b[39m",
      "  [2] \u001b[0m\u001b[1mexplicit_manifest_uuid_path\u001b[22m\u001b[0m\u001b[1m(\u001b[22m\u001b[90mproject_file\u001b[39m::\u001b[0mString, \u001b[90mpkg\u001b[39m::\u001b[0mBase.PkgId\u001b[0m\u001b[1m)\u001b[22m",
      "\u001b[90m    @\u001b[39m \u001b[90mBase\u001b[39m \u001b[90m./\u001b[39m\u001b[90m\u001b[4mloading.jl:919\u001b[24m\u001b[39m",
      "  [3] \u001b[0m\u001b[1mmanifest_uuid_path\u001b[22m\u001b[0m\u001b[1m(\u001b[22m\u001b[90menv\u001b[39m::\u001b[0mString, \u001b[90mpkg\u001b[39m::\u001b[0mBase.PkgId\u001b[0m\u001b[1m)\u001b[22m",
      "\u001b[90m    @\u001b[39m \u001b[90mBase\u001b[39m \u001b[90m./\u001b[39m\u001b[90m\u001b[4mloading.jl:664\u001b[24m\u001b[39m",
      "  [4] \u001b[0m\u001b[1mlocate_package_env\u001b[22m\u001b[0m\u001b[1m(\u001b[22m\u001b[90mpkg\u001b[39m::\u001b[0mBase.PkgId, \u001b[90mstopenv\u001b[39m::\u001b[0mNothing\u001b[0m\u001b[1m)\u001b[22m",
      "\u001b[90m    @\u001b[39m \u001b[90mBase\u001b[39m \u001b[90m./\u001b[39m\u001b[90m\u001b[4mloading.jl:423\u001b[24m\u001b[39m",
      "  [5] \u001b[0m\u001b[1mlocate_package\u001b[22m\u001b[0m\u001b[1m(\u001b[22m\u001b[90mpkg\u001b[39m::\u001b[0mBase.PkgId, \u001b[90mstopenv\u001b[39m::\u001b[0mNothing\u001b[0m\u001b[1m)\u001b[22m",
      "\u001b[90m    @\u001b[39m \u001b[90mBase\u001b[39m \u001b[90m./\u001b[39m\u001b[90m\u001b[4mloading.jl:467\u001b[24m\u001b[39m",
      "  [6] \u001b[0m\u001b[1mlocate_package\u001b[22m",
      "\u001b[90m    @\u001b[39m \u001b[90m./\u001b[39m\u001b[90m\u001b[4mloading.jl:467\u001b[24m\u001b[39m\u001b[90m [inlined]\u001b[39m",
      "  [7] \u001b[0m\u001b[1mprecompile\u001b[22m\u001b[0m\u001b[1m(\u001b[22m\u001b[90mctx\u001b[39m::\u001b[0mPkg.Types.Context, \u001b[90mpkgs\u001b[39m::\u001b[0mVector\u001b[90m{Pkg.Types.PackageSpec}\u001b[39m; \u001b[90minternal_call\u001b[39m::\u001b[0mBool, \u001b[90mstrict\u001b[39m::\u001b[0mBool, \u001b[90mwarn_loaded\u001b[39m::\u001b[0mBool, \u001b[90malready_instantiated\u001b[39m::\u001b[0mBool, \u001b[90mtiming\u001b[39m::\u001b[0mBool, \u001b[90m_from_loading\u001b[39m::\u001b[0mBool, \u001b[90mkwargs\u001b[39m::\u001b[0m@Kwargs\u001b[90m{io::IJulia.IJuliaStdio{Base.PipeEndpoint}}\u001b[39m\u001b[0m\u001b[1m)\u001b[22m",
      "\u001b[90m    @\u001b[39m \u001b[35mPkg.API\u001b[39m \u001b[90m~/julia-1.10.5/share/julia/stdlib/v1.10/Pkg/src/\u001b[39m\u001b[90m\u001b[4mAPI.jl:1495\u001b[24m\u001b[39m",
      "  [8] \u001b[0m\u001b[1mprecompile\u001b[22m\u001b[0m\u001b[1m(\u001b[22m\u001b[90mpkgs\u001b[39m::\u001b[0mVector\u001b[90m{Pkg.Types.PackageSpec}\u001b[39m; \u001b[90mio\u001b[39m::\u001b[0mIJulia.IJuliaStdio\u001b[90m{Base.PipeEndpoint}\u001b[39m, \u001b[90mkwargs\u001b[39m::\u001b[0m@Kwargs\u001b[90m{_from_loading::Bool}\u001b[39m\u001b[0m\u001b[1m)\u001b[22m",
      "\u001b[90m    @\u001b[39m \u001b[35mPkg.API\u001b[39m \u001b[90m~/julia-1.10.5/share/julia/stdlib/v1.10/Pkg/src/\u001b[39m\u001b[90m\u001b[4mAPI.jl:159\u001b[24m\u001b[39m",
      "  [9] \u001b[0m\u001b[1mprecompile\u001b[22m",
      "\u001b[90m    @\u001b[39m \u001b[90m~/julia-1.10.5/share/julia/stdlib/v1.10/Pkg/src/\u001b[39m\u001b[90m\u001b[4mAPI.jl:147\u001b[24m\u001b[39m\u001b[90m [inlined]\u001b[39m",
      " [10] \u001b[0m\u001b[1m#precompile#114\u001b[22m",
      "\u001b[90m    @\u001b[39m \u001b[90m~/julia-1.10.5/share/julia/stdlib/v1.10/Pkg/src/\u001b[39m\u001b[90m\u001b[4mAPI.jl:146\u001b[24m\u001b[39m\u001b[90m [inlined]\u001b[39m",
      " [11] \u001b[0m\u001b[1m#invokelatest#2\u001b[22m",
      "\u001b[90m    @\u001b[39m \u001b[90m./\u001b[39m\u001b[90m\u001b[4messentials.jl:894\u001b[24m\u001b[39m\u001b[90m [inlined]\u001b[39m",
      " [12] \u001b[0m\u001b[1minvokelatest\u001b[22m",
      "\u001b[90m    @\u001b[39m \u001b[90m./\u001b[39m\u001b[90m\u001b[4messentials.jl:889\u001b[24m\u001b[39m\u001b[90m [inlined]\u001b[39m",
      " [13] \u001b[0m\u001b[1m_require\u001b[22m\u001b[0m\u001b[1m(\u001b[22m\u001b[90mpkg\u001b[39m::\u001b[0mBase.PkgId, \u001b[90menv\u001b[39m::\u001b[0mString\u001b[0m\u001b[1m)\u001b[22m",
      "\u001b[90m    @\u001b[39m \u001b[90mBase\u001b[39m \u001b[90m./\u001b[39m\u001b[90m\u001b[4mloading.jl:1963\u001b[24m\u001b[39m",
      " [14] \u001b[0m\u001b[1m__require_prelocked\u001b[22m\u001b[0m\u001b[1m(\u001b[22m\u001b[90muuidkey\u001b[39m::\u001b[0mBase.PkgId, \u001b[90menv\u001b[39m::\u001b[0mString\u001b[0m\u001b[1m)\u001b[22m",
      "\u001b[90m    @\u001b[39m \u001b[90mBase\u001b[39m \u001b[90m./\u001b[39m\u001b[90m\u001b[4mloading.jl:1812\u001b[24m\u001b[39m",
      " [15] \u001b[0m\u001b[1m#invoke_in_world#3\u001b[22m",
      "\u001b[90m    @\u001b[39m \u001b[90m./\u001b[39m\u001b[90m\u001b[4messentials.jl:926\u001b[24m\u001b[39m\u001b[90m [inlined]\u001b[39m",
      " [16] \u001b[0m\u001b[1minvoke_in_world\u001b[22m",
      "\u001b[90m    @\u001b[39m \u001b[90m./\u001b[39m\u001b[90m\u001b[4messentials.jl:923\u001b[24m\u001b[39m\u001b[90m [inlined]\u001b[39m",
      " [17] \u001b[0m\u001b[1m_require_prelocked\u001b[22m\u001b[0m\u001b[1m(\u001b[22m\u001b[90muuidkey\u001b[39m::\u001b[0mBase.PkgId, \u001b[90menv\u001b[39m::\u001b[0mString\u001b[0m\u001b[1m)\u001b[22m",
      "\u001b[90m    @\u001b[39m \u001b[90mBase\u001b[39m \u001b[90m./\u001b[39m\u001b[90m\u001b[4mloading.jl:1803\u001b[24m\u001b[39m",
      " [18] \u001b[0m\u001b[1mmacro expansion\u001b[22m",
      "\u001b[90m    @\u001b[39m \u001b[90m./\u001b[39m\u001b[90m\u001b[4mloading.jl:1790\u001b[24m\u001b[39m\u001b[90m [inlined]\u001b[39m",
      " [19] \u001b[0m\u001b[1mmacro expansion\u001b[22m",
      "\u001b[90m    @\u001b[39m \u001b[90m./\u001b[39m\u001b[90m\u001b[4mlock.jl:267\u001b[24m\u001b[39m\u001b[90m [inlined]\u001b[39m",
      " [20] \u001b[0m\u001b[1m__require\u001b[22m\u001b[0m\u001b[1m(\u001b[22m\u001b[90minto\u001b[39m::\u001b[0mModule, \u001b[90mmod\u001b[39m::\u001b[0mSymbol\u001b[0m\u001b[1m)\u001b[22m",
      "\u001b[90m    @\u001b[39m \u001b[90mBase\u001b[39m \u001b[90m./\u001b[39m\u001b[90m\u001b[4mloading.jl:1753\u001b[24m\u001b[39m",
      " [21] \u001b[0m\u001b[1m#invoke_in_world#3\u001b[22m",
      "\u001b[90m    @\u001b[39m \u001b[90m./\u001b[39m\u001b[90m\u001b[4messentials.jl:926\u001b[24m\u001b[39m\u001b[90m [inlined]\u001b[39m",
      " [22] \u001b[0m\u001b[1minvoke_in_world\u001b[22m",
      "\u001b[90m    @\u001b[39m \u001b[90m./\u001b[39m\u001b[90m\u001b[4messentials.jl:923\u001b[24m\u001b[39m\u001b[90m [inlined]\u001b[39m",
      " [23] \u001b[0m\u001b[1mrequire\u001b[22m\u001b[0m\u001b[1m(\u001b[22m\u001b[90minto\u001b[39m::\u001b[0mModule, \u001b[90mmod\u001b[39m::\u001b[0mSymbol\u001b[0m\u001b[1m)\u001b[22m",
      "\u001b[90m    @\u001b[39m \u001b[90mBase\u001b[39m \u001b[90m./\u001b[39m\u001b[90m\u001b[4mloading.jl:1746\u001b[24m\u001b[39m"
     ]
    },
    {
     "name": "stderr",
     "output_type": "stream",
     "text": [
      "\u001b[32m  ✓ \u001b[39m\u001b[90mGlob\u001b[39m\n",
      "\u001b[32m  ✓ \u001b[39m\u001b[90mDataValueInterfaces\u001b[39m\n",
      "\u001b[32m  ✓ \u001b[39m\u001b[90mStatsAPI\u001b[39m\n",
      "\u001b[32m  ✓ \u001b[39m\u001b[90mTricks\u001b[39m\n",
      "\u001b[32m  ✓ \u001b[39m\u001b[90mContour\u001b[39m\n",
      "\u001b[32m  ✓ \u001b[39m\u001b[90mCompilerSupportLibraries_jll\u001b[39m\n",
      "\u001b[32m  ✓ \u001b[39m\u001b[90mObservables\u001b[39m\n",
      "\u001b[32m  ✓ \u001b[39m\u001b[90mGrisu\u001b[39m\n",
      "\u001b[32m  ✓ \u001b[39m\u001b[90mAbstractTrees\u001b[39m\n",
      "\u001b[32m  ✓ \u001b[39m\u001b[90mIntervalSets\u001b[39m\n",
      "\u001b[32m  ✓ \u001b[39m\u001b[90mSimpleBufferStream\u001b[39m\n",
      "\u001b[32m  ✓ \u001b[39m\u001b[90mExtents\u001b[39m\n",
      "\u001b[32m  ✓ \u001b[39m\u001b[90mOffsetArrays\u001b[39m\n",
      "\u001b[32m  ✓ \u001b[39m\u001b[90mURIs\u001b[39m\n"
     ]
    }
   ],
   "source": [
    "using Catalyst\n",
    "using DifferentialEquations\n",
    "using DataFrames\n",
    "using CSV\n",
    "using Plots\n",
    "\n",
    "project_root = dirname(@__DIR__)\n",
    "\n",
    "include(joinpath(project_root, \"src/models/model_eqs_tutorial.jl\"))\n",
    "include(joinpath(project_root, \"src/models/catalyst_model/model_div_tutorial.jl\"))\n",
    "include(joinpath(project_root, \"src/setup_funcs.jl\"))  \n",
    "params = getPars(\"uM\", \"NatComms\"; abx=0.0)\n",
    "u0 = getX0(gm_divC; ss=false, parametrization=\"NatComms\")\n",
    "\n",
    "\n",
    "println(\"Solving ODE system\")\n",
    "prob = ODEProblem(gm_divC, u0, (0.0, 1e3), params)\n",
    "sol = solve(prob, Tsit5(); saveat=1.0)\n",
    "println(\"Simulation complete\")\n",
    "\n",
    "\n",
    "df = DataFrame(sol)\n",
    "CSV.write(joinpath(project_root, \"model_div_results.csv\"), df)\n",
    "\n",
    "plt = plot(sol;\n",
    "    vars=[:a, :si, :r, :em, :et, :q],\n",
    "    lw=2,\n",
    "    xlabel=\"Time\",\n",
    "    ylabel=\"Concentration (µM)\",\n",
    "    legend=:outerright,\n",
    "    title=\"Model DIV ODE Simulation\"\n",
    ")\n",
    "savefig(joinpath(project_root, \"model_div_ODE_results.png\"))\n",
    "println(\"Saved outputs: model_div_results.csv and model_div_ODE_results.png\")"
   ]
  },
  {
   "cell_type": "code",
   "execution_count": null,
   "id": "1891b1f2-c6b9-4f63-8767-53918c308f19",
   "metadata": {},
   "outputs": [],
   "source": []
  }
 ],
 "metadata": {
  "kernelspec": {
   "display_name": "Julia 1.10.5",
   "language": "julia",
   "name": "julia-1.10"
  },
  "language_info": {
   "file_extension": ".jl",
   "mimetype": "application/julia",
   "name": "julia",
   "version": "1.10.5"
  }
 },
 "nbformat": 4,
 "nbformat_minor": 5
}
